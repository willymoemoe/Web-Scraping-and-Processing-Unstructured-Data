{
 "cells": [
  {
   "cell_type": "code",
   "execution_count": null,
   "id": "3fba6f74-5cfb-4fc6-b8c9-c78011e61ed9",
   "metadata": {},
   "outputs": [],
   "source": [
    "<!DOCTYPE html>\n",
    "<html>\n",
    "<head>\n",
    "    <title>Famous Quotes</title>\n",
    "</head>\n",
    "<body>\n",
    "    <div class=\"quote\">\n",
    "        <p class=\"text\">\"To be or not to be, that is the question.\"</p>\n",
    "        <p class=\"author\">William Shakespeare</p>\n",
    "    </div>\n",
    "    <div class=\"quote\">\n",
    "        <p class=\"text\">\"In three words I can sum up everything I've learned about life: it goes on.\"</p>\n",
    "        <p class=\"author\">Robert Frost</p>\n",
    "    </div>\n",
    "    <!-- ... more quotes ... -->\n",
    "</body>\n",
    "</html>\n"
   ]
  },
  {
   "cell_type": "code",
   "execution_count": null,
   "id": "7835e2ab-b903-40dc-aa87-8451088eedbb",
   "metadata": {},
   "outputs": [],
   "source": [
    "pip install requests\n",
    "pip install beautifulsoup4\n",
    "pip install pandas\n",
    "\n"
   ]
  },
  {
   "cell_type": "code",
   "execution_count": null,
   "id": "3bf33060-0ab9-4f6d-a67f-38c944007e3a",
   "metadata": {},
   "outputs": [],
   "source": [
    "import requests\n",
    "from bs4 import BeautifulSoup\n",
    "import pandas as pd\n",
    "\n",
    "# Step 1: Fetch the HTML content\n",
    "url = \"https://example.com/famous-quotes\"\n",
    "response = requests.get(url)\n",
    "html_content = response.text\n",
    "\n",
    "# Step 2: Parse the HTML content using BeautifulSoup\n",
    "soup = BeautifulSoup(html_content, \"html.parser\")\n",
    "\n",
    "# Step 3: Extract the quotes and authors\n",
    "quotes = []\n",
    "authors = []\n",
    "\n",
    "for quote_div in soup.find_all(\"div\", class_=\"quote\"):\n",
    "    quote_text = quote_div.find(\"p\", class_=\"text\").text.strip()\n",
    "    author_name = quote_div.find(\"p\", class_=\"author\").text.strip()\n",
    "    quotes.append(quote_text)\n",
    "    authors.append(author_name)\n",
    "\n",
    "# Step 4: Organize the data into a structured format (Pandas DataFrame)\n",
    "data = {\"Quote\": quotes, \"Author\": authors}\n",
    "df = pd.DataFrame(data)\n",
    "\n",
    "# Step 5: Save the data to a CSV file\n",
    "df.to_csv(\"famous_quotes.csv\", index=False)"
   ]
  },
  {
   "cell_type": "code",
   "execution_count": null,
   "id": "9b31c695-4568-43da-8233-68689f5844a8",
   "metadata": {},
   "outputs": [],
   "source": []
  }
 ],
 "metadata": {
  "kernelspec": {
   "display_name": "anaconda-2022.05-py39",
   "language": "python",
   "name": "conda-env-anaconda-2022.05-py39-py"
  },
  "language_info": {
   "codemirror_mode": {
    "name": "ipython",
    "version": 3
   },
   "file_extension": ".py",
   "mimetype": "text/x-python",
   "name": "python",
   "nbconvert_exporter": "python",
   "pygments_lexer": "ipython3",
   "version": "3.9.12"
  }
 },
 "nbformat": 4,
 "nbformat_minor": 5
}
